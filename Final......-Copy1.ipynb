{
 "cells": [
  {
   "cell_type": "code",
   "execution_count": 2,
   "id": "23e58e7a",
   "metadata": {},
   "outputs": [],
   "source": [
    "import numpy as np\n",
    "import pandas as pd"
   ]
  },
  {
   "cell_type": "code",
   "execution_count": 3,
   "id": "0899862d",
   "metadata": {},
   "outputs": [],
   "source": [
    "dfs=[]\n",
    "for f in ['main.csv','playin.csv']:\n",
    "    dfs.append(pd.read_csv(f,index_col='Champion',usecols=['Champion','GP','P%','B%','W%','K','D','A'],na_values='-'))"
   ]
  },
  {
   "cell_type": "code",
   "execution_count": 4,
   "id": "3bf7e1c9",
   "metadata": {},
   "outputs": [],
   "source": [
    "pd.set_option('display.max_columns',24)\n"
   ]
  },
  {
   "cell_type": "code",
   "execution_count": 5,
   "id": "511fdaf5",
   "metadata": {},
   "outputs": [],
   "source": [
    "filt=[]\n",
    "for df in dfs:\n",
    "    df.sort_index(inplace=True)\n",
    "    double=df.index.duplicated()\n",
    "    filt.append(df.loc[double].index)"
   ]
  },
  {
   "cell_type": "code",
   "execution_count": 6,
   "id": "80c92ac1",
   "metadata": {},
   "outputs": [],
   "source": [
    "for df in dfs:\n",
    "    df['P%']=df['P%'].str.replace('%','').astype(float)\n",
    "    df['B%']=df['B%'].str.replace('%','').astype(float)\n",
    "    df['W%']=df['W%'].str.replace('%','').astype(float)\n",
    "    df[['K','D','A','GP']]=df[['K','D','A','GP']].astype(float)"
   ]
  },
  {
   "cell_type": "code",
   "execution_count": 7,
   "id": "29462146",
   "metadata": {},
   "outputs": [],
   "source": [
    "games=[]\n",
    "for df in dfs:\n",
    "    games.append(df['GP'].sum()/10)"
   ]
  },
  {
   "cell_type": "code",
   "execution_count": 8,
   "id": "f3678b3e",
   "metadata": {},
   "outputs": [],
   "source": [
    "for i,df in enumerate(dfs):\n",
    "    df['Wins']=round(df['GP']*(df['W%']/100))\n",
    "    df['Bans']=round(games[i]*(df['B%']/100))\n",
    "    df.drop(columns=['P%','B%','W%'],inplace=True)"
   ]
  },
  {
   "cell_type": "code",
   "execution_count": 9,
   "id": "f1f4149a",
   "metadata": {},
   "outputs": [],
   "source": [
    "\n",
    "dfs[0]=dfs[0].groupby(level='Champion').sum()\n",
    "dfs[1]=dfs[1].groupby(level='Champion').sum()"
   ]
  },
  {
   "cell_type": "code",
   "execution_count": 10,
   "id": "dd1d2de9",
   "metadata": {},
   "outputs": [],
   "source": [
    "for i,df in enumerate(dfs): \n",
    "    df.loc[filt[i],'Bans']=df.loc[filt[i],'Bans']/2"
   ]
  },
  {
   "cell_type": "code",
   "execution_count": 11,
   "id": "9b3cc6f0",
   "metadata": {},
   "outputs": [],
   "source": [
    "alldf=dfs[0].add(dfs[1],fill_value=0)"
   ]
  },
  {
   "cell_type": "code",
   "execution_count": 12,
   "id": "b5f41ec1",
   "metadata": {},
   "outputs": [],
   "source": [
    "total=alldf['GP'].sum()/10"
   ]
  },
  {
   "cell_type": "code",
   "execution_count": 13,
   "id": "24abe334",
   "metadata": {},
   "outputs": [],
   "source": [
    "alldf['KDA']=round((alldf['K']+alldf['A'])/alldf['D'],1)"
   ]
  },
  {
   "cell_type": "code",
   "execution_count": 14,
   "id": "2d7b6157",
   "metadata": {},
   "outputs": [],
   "source": [
    "alldf['W%']=round(100*alldf['Wins']/alldf['GP'],1)\n",
    "alldf['P%']=round(100*alldf['GP']/total,1)\n",
    "alldf['B%']=round(100*alldf['Bans']/total,1)\n",
    "alldf['P+B%']=alldf['B%']+alldf['P%']"
   ]
  },
  {
   "cell_type": "code",
   "execution_count": 15,
   "id": "947c3996",
   "metadata": {},
   "outputs": [
    {
     "data": {
      "text/plain": [
       "(\"Kai'Sa\", 57.0)"
      ]
     },
     "execution_count": 15,
     "metadata": {},
     "output_type": "execute_result"
    }
   ],
   "source": [
    "alldf['GP'].idxmax(),alldf['GP'].max()"
   ]
  },
  {
   "cell_type": "code",
   "execution_count": 16,
   "id": "0a71a05c",
   "metadata": {},
   "outputs": [
    {
     "data": {
      "text/plain": [
       "('Maokai', 60.0)"
      ]
     },
     "execution_count": 16,
     "metadata": {},
     "output_type": "execute_result"
    }
   ],
   "source": [
    "alldf['Bans'].idxmax(),alldf['Bans'].max()"
   ]
  },
  {
   "cell_type": "code",
   "execution_count": 17,
   "id": "3ec82d1a",
   "metadata": {},
   "outputs": [
    {
     "data": {
      "text/plain": [
       "('Bard', 80.0)"
      ]
     },
     "execution_count": 17,
     "metadata": {},
     "output_type": "execute_result"
    }
   ],
   "source": [
    "alldf[alldf['GP']>=5]['W%'].idxmax(),alldf[alldf['GP']>=5]['W%'].max()"
   ]
  },
  {
   "cell_type": "code",
   "execution_count": 18,
   "id": "830615d9",
   "metadata": {},
   "outputs": [
    {
     "data": {
      "text/plain": [
       "('Rell', 152.0)"
      ]
     },
     "execution_count": 18,
     "metadata": {},
     "output_type": "execute_result"
    }
   ],
   "source": [
    "alldf['D'].idxmax(),alldf['D'].max()"
   ]
  },
  {
   "cell_type": "code",
   "execution_count": 19,
   "id": "b4920687",
   "metadata": {},
   "outputs": [
    {
     "data": {
      "text/plain": [
       "('Orianna', 93.4)"
      ]
     },
     "execution_count": 19,
     "metadata": {},
     "output_type": "execute_result"
    }
   ],
   "source": [
    "alldf['P+B%'].idxmax(),alldf['P+B%'].max()"
   ]
  },
  {
   "cell_type": "code",
   "execution_count": 21,
   "metadata": {},
   "outputs": [
    {
     "data": {
      "text/plain": [
       "(\"Kai'Sa\", 238.0)"
      ]
     },
     "execution_count": 21,
     "metadata": {},
     "output_type": "execute_result"
    }
   ],
   "source": [
    "alldf['K'].idxmax(),alldf['K'].max()"
   ]
  }
 ],
 "metadata": {
  "kernelspec": {
   "display_name": "Python 3 (ipykernel)",
   "language": "python",
   "name": "python3"
  },
  "language_info": {
   "codemirror_mode": {
    "name": "ipython",
    "version": 3
   },
   "file_extension": ".py",
   "mimetype": "text/x-python",
   "name": "python",
   "nbconvert_exporter": "python",
   "pygments_lexer": "ipython3",
   "version": "3.11.5"
  }
 },
 "nbformat": 4,
 "nbformat_minor": 5
}
